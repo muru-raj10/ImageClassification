{
 "cells": [
  {
   "cell_type": "markdown",
   "metadata": {
    "collapsed": true
   },
   "source": [
    "# Image Classification\n",
    "In this project, you'll classify images from the [CIFAR-10 dataset](https://www.cs.toronto.edu/~kriz/cifar.html).  The dataset consists of airplanes, dogs, cats, and other objects. You'll preprocess the images, then train a convolutional neural network on all the samples. The images need to be normalized and the labels need to be one-hot encoded.  You'll get to apply what you learned and build a convolutional, max pooling, dropout, and fully connected layers.  At the end, you'll get to see your neural network's predictions on the sample images.\n",
    "## Get the Data\n",
    "Run the following cell to download the [CIFAR-10 dataset for python](https://www.cs.toronto.edu/~kriz/cifar-10-python.tar.gz)."
   ]
  },
  {
   "cell_type": "code",
   "execution_count": 1,
   "metadata": {},
   "outputs": [
    {
     "name": "stdout",
     "output_type": "stream",
     "text": [
      "All files found!\n"
     ]
    }
   ],
   "source": [
    "\"\"\"\n",
    "DON'T MODIFY ANYTHING IN THIS CELL THAT IS BELOW THIS LINE\n",
    "\"\"\"\n",
    "from urllib.request import urlretrieve\n",
    "from os.path import isfile, isdir\n",
    "from tqdm import tqdm\n",
    "import problem_unittests as tests\n",
    "import tarfile\n",
    "\n",
    "cifar10_dataset_folder_path = 'cifar-10-batches-py'\n",
    "\n",
    "class DLProgress(tqdm):\n",
    "    last_block = 0\n",
    "\n",
    "    def hook(self, block_num=1, block_size=1, total_size=None):\n",
    "        self.total = total_size\n",
    "        self.update((block_num - self.last_block) * block_size)\n",
    "        self.last_block = block_num\n",
    "\n",
    "if not isfile('cifar-10-python.tar.gz'):\n",
    "    with DLProgress(unit='B', unit_scale=True, miniters=1, desc='CIFAR-10 Dataset') as pbar:\n",
    "        urlretrieve(\n",
    "            'https://www.cs.toronto.edu/~kriz/cifar-10-python.tar.gz',\n",
    "            'cifar-10-python.tar.gz',\n",
    "            pbar.hook)\n",
    "\n",
    "if not isdir(cifar10_dataset_folder_path):\n",
    "    with tarfile.open('cifar-10-python.tar.gz') as tar:\n",
    "        tar.extractall()\n",
    "        tar.close()\n",
    "\n",
    "\n",
    "tests.test_folder_path(cifar10_dataset_folder_path)"
   ]
  },
  {
   "cell_type": "markdown",
   "metadata": {},
   "source": [
    "## Explore the Data\n",
    "The dataset is broken into batches to prevent your machine from running out of memory.  The CIFAR-10 dataset consists of 5 batches, named `data_batch_1`, `data_batch_2`, etc.. Each batch contains the labels and images that are one of the following:\n",
    "* airplane\n",
    "* automobile\n",
    "* bird\n",
    "* cat\n",
    "* deer\n",
    "* dog\n",
    "* frog\n",
    "* horse\n",
    "* ship\n",
    "* truck\n",
    "\n",
    "Understanding a dataset is part of making predictions on the data.  Play around with the code cell below by changing the `batch_id` and `sample_id`. The `batch_id` is the id for a batch (1-5). The `sample_id` is the id for a image and label pair in the batch.\n",
    "\n",
    "Ask yourself \"What are all possible labels?\", \"What is the range of values for the image data?\", \"Are the labels in order or random?\".  Answers to questions like these will help you preprocess the data and end up with better predictions."
   ]
  },
  {
   "cell_type": "code",
   "execution_count": 2,
   "metadata": {},
   "outputs": [
    {
     "name": "stdout",
     "output_type": "stream",
     "text": [
      "\n",
      "Stats of batch 1:\n",
      "Samples: 10000\n",
      "Label Counts: {0: 1005, 1: 974, 2: 1032, 3: 1016, 4: 999, 5: 937, 6: 1030, 7: 1001, 8: 1025, 9: 981}\n",
      "First 20 Labels: [6, 9, 9, 4, 1, 1, 2, 7, 8, 3, 4, 7, 7, 2, 9, 9, 9, 3, 2, 6]\n",
      "\n",
      "Example of Image 5:\n",
      "Image - Min Value: 0 Max Value: 252\n",
      "Image - Shape: (32, 32, 3)\n",
      "Label - Label Id: 1 Name: automobile\n"
     ]
    },
    {
     "data": {
      "image/png": "[encoded data removed]",
      "text/plain": [
       "<matplotlib.figure.Figure at 0x1e5f5e3ff98>"
      ]
     },
     "metadata": {
      "image/png": {
       "height": 250,
       "width": 253
      }
     },
     "output_type": "display_data"
    }
   ],
   "source": [
    "%matplotlib inline\n",
    "%config InlineBackend.figure_format = 'retina'\n",
    "\n",
    "import helper\n",
    "import numpy as np\n",
    "\n",
    "# Explore the dataset\n",
    "batch_id = 1\n",
    "sample_id = 5\n",
    "helper.display_stats(cifar10_dataset_folder_path, batch_id, sample_id)"
   ]
  },
  {
   "cell_type": "code",
   "execution_count": 10,
   "metadata": {},
   "outputs": [
    {
     "name": "stdout",
     "output_type": "stream",
     "text": [
      "\n",
      "Stats of batch 1:\n",
      "Samples: 10000\n",
      "Label Counts: {0: 1005, 1: 974, 2: 1032, 3: 1016, 4: 999, 5: 937, 6: 1030, 7: 1001, 8: 1025, 9: 981}\n",
      "First 20 Labels: [6, 9, 9, 4, 1, 1, 2, 7, 8, 3, 4, 7, 7, 2, 9, 9, 9, 3, 2, 6]\n",
      "\n",
      "Example of Image 501:\n",
      "Image - Min Value: 21 Max Value: 248\n",
      "Image - Shape: (32, 32, 3)\n",
      "Label - Label Id: 8 Name: ship\n"
     ]
    },
    {
     "data": {
      "image/png": "[encoded data removed]",
      "text/plain": [
       "<matplotlib.figure.Figure at 0x23a76aaccf8>"
      ]
     },
     "metadata": {
      "image/png": {
       "height": 250,
       "width": 253
      }
     },
     "output_type": "display_data"
    }
   ],
   "source": [
    "helper.display_stats(cifar10_dataset_folder_path, 1, 501)"
   ]
  },
  {
   "cell_type": "markdown",
   "metadata": {},
   "source": [
    "In batch 1, image with sample_id 5 has label_id = 1, Automobile.   \n",
    "In batch 1, image with sample_id 6 has label_id = 2, Bird.    \n",
    "In batch 1, image with sample_id 0 has label_id = 6, Frog.   \n",
    "All possible labels are 0,1,2,3,4,5,6,7,8,9 and the labels are not in any particular order. \n",
    "The minimum value of an image seems to be 0, while maximum is 255."
   ]
  },
  {
   "cell_type": "markdown",
   "metadata": {},
   "source": [
    "## Implement Preprocess Functions\n",
    "### Normalize\n",
    "In the cell below, implement the `normalize` function to take in image data, `x`, and return it as a normalized Numpy array. The values should be in the range of 0 to 1, inclusive.  The return object should be the same shape as `x`."
   ]
  },
  {
   "cell_type": "code",
   "execution_count": 3,
   "metadata": {},
   "outputs": [
    {
     "name": "stdout",
     "output_type": "stream",
     "text": [
      "Tests Passed\n"
     ]
    }
   ],
   "source": [
    "def normalize(x):\n",
    "    \"\"\"\n",
    "    Normalize a list of sample image data in the range of 0 to 1\n",
    "    : x: List of image data.  The image shape is (32, 32, 3)\n",
    "    : return: Numpy array of normalize data\n",
    "    \"\"\"\n",
    "    # TODO: Implement Function\n",
    "    #length = np.linalg.norm(x)  #32x32x3 array with values 0 - 255\n",
    "    \n",
    "    #return x/length\n",
    "    return np.divide(x, 255.0)\n",
    "\n",
    "\"\"\"\n",
    "DON'T MODIFY ANYTHING IN THIS CELL THAT IS BELOW THIS LINE\n",
    "\"\"\"\n",
    "tests.test_normalize(normalize)"
   ]
  },
  {
   "cell_type": "markdown",
   "metadata": {},
   "source": [
    "### One-hot encode\n",
    "Just like the previous code cell, you'll be implementing a function for preprocessing.  This time, you'll implement the `one_hot_encode` function. The input, `x`, are a list of labels.  Implement the function to return the list of labels as One-Hot encoded Numpy array.  The possible values for labels are 0 to 9. The one-hot encoding function should return the same encoding for each value between each call to `one_hot_encode`.  Make sure to save the map of encodings outside the function.\n",
    "\n",
    "**Hint:**\n",
    "\n",
    "Look into LabelBinarizer in the preprocessing module of sklearn."
   ]
  },
  {
   "cell_type": "code",
   "execution_count": 5,
   "metadata": {},
   "outputs": [
    {
     "name": "stdout",
     "output_type": "stream",
     "text": [
      "Tests Passed\n"
     ]
    }
   ],
   "source": [
    "def one_hot_encode(x):\n",
    "    \"\"\"\n",
    "    One hot encode a list of sample labels. Return a one-hot encoded vector for each label.\n",
    "    : x: List of sample Labels\n",
    "    : return: Numpy array of one-hot encoded labels\n",
    "    \"\"\"\n",
    "    # TODO: Implement Function\n",
    "    from sklearn import preprocessing\n",
    "    lb = preprocessing.LabelBinarizer()\n",
    "    lb.fit([0,1,2,3,4,5,6,7,8,9])\n",
    "    encoded_data = lb.transform(x)\n",
    "    \n",
    "    return encoded_data\n",
    "\n",
    "\n",
    "\"\"\"\n",
    "DON'T MODIFY ANYTHING IN THIS CELL THAT IS BELOW THIS LINE\n",
    "\"\"\"\n",
    "tests.test_one_hot_encode(one_hot_encode)"
   ]
  },
  {
   "cell_type": "markdown",
   "metadata": {},
   "source": [
    "### Randomize Data\n",
    "As you saw from exploring the data above, the order of the samples are randomized.  It doesn't hurt to randomize it again, but you don't need to for this dataset."
   ]
  },
  {
   "cell_type": "markdown",
   "metadata": {},
   "source": [
    "## Preprocess all the data and save it\n",
    "Running the code cell below will preprocess all the CIFAR-10 data and save it to file. The code below also uses 10% of the training data for validation."
   ]
  },
  {
   "cell_type": "code",
   "execution_count": 6,
   "metadata": {
    "collapsed": true
   },
   "outputs": [],
   "source": [
    "\"\"\"\n",
    "DON'T MODIFY ANYTHING IN THIS CELL\n",
    "\"\"\"\n",
    "# Preprocess Training, Validation, and Testing Data\n",
    "helper.preprocess_and_save_data(cifar10_dataset_folder_path, normalize, one_hot_encode)"
   ]
  },
  {
   "cell_type": "markdown",
   "metadata": {},
   "source": [
    "# Check Point\n",
    "This is your first checkpoint.  If you ever decide to come back to this notebook or have to restart the notebook, you can start from here.  The preprocessed data has been saved to disk."
   ]
  },
  {
   "cell_type": "code",
   "execution_count": 1,
   "metadata": {
    "collapsed": true
   },
   "outputs": [],
   "source": [
    "\"\"\"\n",
    "DON'T MODIFY ANYTHING IN THIS CELL\n",
    "\"\"\"\n",
    "import pickle\n",
    "import problem_unittests as tests\n",
    "import helper\n",
    "\n",
    "# Load the Preprocessed Validation data\n",
    "valid_features, valid_labels = pickle.load(open('preprocess_validation.p', mode='rb'))"
   ]
  },
  {
   "cell_type": "markdown",
   "metadata": {},
   "source": [
    "## Build the network\n",
    "For the neural network, you'll build each layer into a function.  Most of the code you've seen has been outside of functions. To test your code more thoroughly, we require that you put each layer in a function.  This allows us to give you better feedback and test for simple mistakes using our unittests before you submit your project.\n",
    "\n",
    ">**Note:** If you're finding it hard to dedicate enough time for this course each week, we've provided a small shortcut to this part of the project. In the next couple of problems, you'll have the option to use classes from the [TensorFlow Layers](https://www.tensorflow.org/api_docs/python/tf/layers) or [TensorFlow Layers (contrib)](https://www.tensorflow.org/api_guides/python/contrib.layers) packages to build each layer, except the layers you build in the \"Convolutional and Max Pooling Layer\" section.  TF Layers is similar to Keras's and TFLearn's abstraction to layers, so it's easy to pickup.\n",
    "\n",
    ">However, if you would like to get the most out of this course, try to solve all the problems _without_ using anything from the TF Layers packages. You **can** still use classes from other packages that happen to have the same name as ones you find in TF Layers! For example, instead of using the TF Layers version of the `conv2d` class, [tf.layers.conv2d](https://www.tensorflow.org/api_docs/python/tf/layers/conv2d), you would want to use the TF Neural Network version of `conv2d`, [tf.nn.conv2d](https://www.tensorflow.org/api_docs/python/tf/nn/conv2d). \n",
    "\n",
    "Let's begin!\n",
    "\n",
    "### Input\n",
    "The neural network needs to read the image data, one-hot encoded labels, and dropout keep probability. Implement the following functions\n",
    "* Implement `neural_net_image_input`\n",
    " * Return a [TF Placeholder](https://www.tensorflow.org/api_docs/python/tf/placeholder)\n",
    " * Set the shape using `image_shape` with batch size set to `None`.\n",
    " * Name the TensorFlow placeholder \"x\" using the TensorFlow `name` parameter in the [TF Placeholder](https://www.tensorflow.org/api_docs/python/tf/placeholder).\n",
    "* Implement `neural_net_label_input`\n",
    " * Return a [TF Placeholder](https://www.tensorflow.org/api_docs/python/tf/placeholder)\n",
    " * Set the shape using `n_classes` with batch size set to `None`.\n",
    " * Name the TensorFlow placeholder \"y\" using the TensorFlow `name` parameter in the [TF Placeholder](https://www.tensorflow.org/api_docs/python/tf/placeholder).\n",
    "* Implement `neural_net_keep_prob_input`\n",
    " * Return a [TF Placeholder](https://www.tensorflow.org/api_docs/python/tf/placeholder) for dropout keep probability.\n",
    " * Name the TensorFlow placeholder \"keep_prob\" using the TensorFlow `name` parameter in the [TF Placeholder](https://www.tensorflow.org/api_docs/python/tf/placeholder).\n",
    "\n",
    "These names will be used at the end of the project to load your saved model.\n",
    "\n",
    "Note: `None` for shapes in TensorFlow allow for a dynamic size."
   ]
  },
  {
   "cell_type": "code",
   "execution_count": 2,
   "metadata": {},
   "outputs": [
    {
     "name": "stdout",
     "output_type": "stream",
     "text": [
      "Image Input Tests Passed.\n",
      "Label Input Tests Passed.\n",
      "Keep Prob Tests Passed.\n"
     ]
    }
   ],
   "source": [
    "import tensorflow as tf\n",
    "\n",
    "def neural_net_image_input(image_shape):\n",
    "    \"\"\"\n",
    "    Return a Tensor for a batch of image input\n",
    "    : image_shape: Shape of the images\n",
    "    : return: Tensor for image input.\n",
    "    \"\"\"\n",
    "    # TODO: Implement Function   #batch_sizex32x32x3 \n",
    "    return tf.placeholder(tf.float32, shape=(None, image_shape[0],image_shape[1],image_shape[2]), name = 'x')\n",
    "\n",
    "\n",
    "def neural_net_label_input(n_classes):\n",
    "    \"\"\"\n",
    "    Return a Tensor for a batch of label input\n",
    "    : n_classes: Number of classes\n",
    "    : return: Tensor for label input.\n",
    "    \"\"\"\n",
    "    # TODO: Implement Function #batch_sizex10\n",
    "    return tf.placeholder(tf.float32, shape = (None, n_classes), name = 'y')\n",
    "\n",
    "\n",
    "def neural_net_keep_prob_input():\n",
    "    \"\"\"\n",
    "    Return a Tensor for keep probability\n",
    "    : return: Tensor for keep probability.\n",
    "    \"\"\"\n",
    "    # TODO: Implement Function\n",
    "    return tf.placeholder(tf.float32, name = 'keep_prob')\n",
    "\n",
    "\n",
    "\"\"\"\n",
    "DON'T MODIFY ANYTHING IN THIS CELL THAT IS BELOW THIS LINE\n",
    "\"\"\"\n",
    "tf.reset_default_graph()\n",
    "tests.test_nn_image_inputs(neural_net_image_input)\n",
    "tests.test_nn_label_inputs(neural_net_label_input)\n",
    "tests.test_nn_keep_prob_inputs(neural_net_keep_prob_input)"
   ]
  },
  {
   "cell_type": "markdown",
   "metadata": {},
   "source": [
    "### Convolution and Max Pooling Layer\n",
    "Convolution layers have a lot of success with images. For this code cell, you should implement the function `conv2d_maxpool` to apply convolution then max pooling:\n",
    "* Create the weight and bias using `conv_ksize`, `conv_num_outputs` and the shape of `x_tensor`.\n",
    "* Apply a convolution to `x_tensor` using weight and `conv_strides`.\n",
    " * We recommend you use same padding, but you're welcome to use any padding.\n",
    "* Add bias\n",
    "* Add a nonlinear activation to the convolution.\n",
    "* Apply Max Pooling using `pool_ksize` and `pool_strides`.\n",
    " * We recommend you use same padding, but you're welcome to use any padding.\n",
    "\n",
    "**Note:** You **can't** use [TensorFlow Layers](https://www.tensorflow.org/api_docs/python/tf/layers) or [TensorFlow Layers (contrib)](https://www.tensorflow.org/api_guides/python/contrib.layers) for **this** layer, but you can still use TensorFlow's [Neural Network](https://www.tensorflow.org/api_docs/python/tf/nn) package. You may still use the shortcut option for all the **other** layers.\n",
    "\n",
    "** Hint: **\n",
    "\n",
    "When unpacking values as an argument in Python, look into the [unpacking](https://docs.python.org/3/tutorial/controlflow.html#unpacking-argument-lists) operator. "
   ]
  },
  {
   "cell_type": "code",
   "execution_count": 3,
   "metadata": {},
   "outputs": [
    {
     "name": "stdout",
     "output_type": "stream",
     "text": [
      "Tests Passed\n"
     ]
    }
   ],
   "source": [
    "def conv2d_maxpool(x_tensor, conv_num_outputs, conv_ksize, conv_strides, pool_ksize, pool_strides):\n",
    "    \"\"\"\n",
    "    Apply convolution then max pooling to x_tensor\n",
    "    :param x_tensor: TensorFlow Tensor\n",
    "    :param conv_num_outputs: Number of outputs for the convolutional layer, output depth\n",
    "    :param conv_ksize: kernal size 2-D Tuple for the convolutional layer, filter height and filter width\n",
    "    :param conv_strides: Stride 2-D Tuple for convolution\n",
    "    :param pool_ksize: kernal size 2-D Tuple for pool\n",
    "    :param pool_strides: Stride 2-D Tuple for pool\n",
    "    : return: A tensor that represents convolution and max pooling of x_tensor\n",
    "    \"\"\"\n",
    "    # TODO: Implement Function\n",
    "    N_layer = conv_ksize[0]*conv_ksize[1]*x_tensor.get_shape().as_list()[3] \n",
    "    \n",
    "    filter_weights = tf.Variable(tf.truncated_normal((conv_ksize[0], \n",
    "                                                      conv_ksize[1], x_tensor.get_shape().as_list()[3], \n",
    "                                                      conv_num_outputs),\n",
    "                                                     stddev=tf.sqrt(2.0/float(N_layer)))) \n",
    "    # (filter height, filter width, input_depth, output_depth)\n",
    "    filter_bias = tf.Variable(tf.zeros(conv_num_outputs))\n",
    "    \n",
    "    conv_layer = tf.nn.conv2d(x_tensor, filter_weights, \n",
    "                              strides=[1,conv_strides[0],conv_strides[1],1], padding='SAME')\n",
    "    conv_layer2 = tf.nn.bias_add(conv_layer, filter_bias)\n",
    "    conv_layer3 = tf.nn.relu(conv_layer2)\n",
    "    \n",
    "    conv_layer4 = tf.nn.max_pool(conv_layer3,[1,pool_ksize[0],pool_ksize[1],1],\n",
    "                                [1,pool_strides[0],pool_strides[1],1],padding='SAME')\n",
    "\n",
    "    return conv_layer4 \n",
    "\n",
    "\n",
    "\"\"\"\n",
    "DON'T MODIFY ANYTHING IN THIS CELL THAT IS BELOW THIS LINE\n",
    "\"\"\"\n",
    "tests.test_con_pool(conv2d_maxpool)"
   ]
  },
  {
   "cell_type": "markdown",
   "metadata": {},
   "source": [
    "### Flatten Layer\n",
    "Implement the `flatten` function to change the dimension of `x_tensor` from a 4-D tensor to a 2-D tensor.  The output should be the shape (*Batch Size*, *Flattened Image Size*). Shortcut option: you can use classes from the [TensorFlow Layers](https://www.tensorflow.org/api_docs/python/tf/layers) or [TensorFlow Layers (contrib)](https://www.tensorflow.org/api_guides/python/contrib.layers) packages for this layer. For more of a challenge, only use other TensorFlow packages."
   ]
  },
  {
   "cell_type": "code",
   "execution_count": 4,
   "metadata": {},
   "outputs": [
    {
     "name": "stdout",
     "output_type": "stream",
     "text": [
      "Tests Passed\n"
     ]
    }
   ],
   "source": [
    "def flatten(x_tensor):\n",
    "    \"\"\"\n",
    "    Flatten x_tensor to (Batch Size, Flattened Image Size)\n",
    "    : x_tensor: A tensor of size (Batch Size, ...), where ... are the image dimensions. (32,32,3)\n",
    "    : return: A tensor of size (Batch Size, Flattened Image Size).\n",
    "    \"\"\"\n",
    "    # TODO: Implement Function\n",
    "    shape = x_tensor.get_shape().as_list()  #[batch_size,32,32,3]\n",
    "    flat = tf.reshape(x_tensor, [-1, int(shape[1])*int(shape[2])*int(shape[3])])\n",
    "    return flat\n",
    "\n",
    "\n",
    "\"\"\"\n",
    "DON'T MODIFY ANYTHING IN THIS CELL THAT IS BELOW THIS LINE\n",
    "\"\"\"\n",
    "tests.test_flatten(flatten)"
   ]
  },
  {
   "cell_type": "markdown",
   "metadata": {},
   "source": [
    "### Fully-Connected Layer\n",
    "Implement the `fully_conn` function to apply a fully connected layer to `x_tensor` with the shape (*Batch Size*, *num_outputs*). Shortcut option: you can use classes from the [TensorFlow Layers](https://www.tensorflow.org/api_docs/python/tf/layers) or [TensorFlow Layers (contrib)](https://www.tensorflow.org/api_guides/python/contrib.layers) packages for this layer. For more of a challenge, only use other TensorFlow packages."
   ]
  },
  {
   "cell_type": "code",
   "execution_count": 5,
   "metadata": {},
   "outputs": [
    {
     "name": "stdout",
     "output_type": "stream",
     "text": [
      "Tests Passed\n"
     ]
    }
   ],
   "source": [
    "def fully_conn(x_tensor, num_outputs):\n",
    "    \"\"\"\n",
    "    Apply a fully connected layer to x_tensor using weight and bias\n",
    "    : x_tensor: A 2-D tensor where the first dimension is batch size.\n",
    "    : num_outputs: The number of output that the new tensor should be.\n",
    "    : return: A 2-D tensor where the second dimension is num_outputs.\n",
    "    \"\"\"\n",
    "    # TODO: Implement Function   \n",
    "    N_full_layer = x_tensor.get_shape().as_list()[1]\n",
    "    weight = tf.Variable(tf.truncated_normal([x_tensor.get_shape().as_list()[1], num_outputs],\n",
    "                                             stddev=tf.sqrt(2.0/float(N_full_layer))))\n",
    "    bias = tf.Variable(tf.zeros(num_outputs)) \n",
    "    conn_output = tf.add(tf.matmul(x_tensor, weight),bias)\n",
    "    \n",
    "    fully_conn_output = tf.nn.relu(conn_output)\n",
    "\n",
    "    return fully_conn_output\n",
    "\n",
    "\n",
    "\"\"\"\n",
    "DON'T MODIFY ANYTHING IN THIS CELL THAT IS BELOW THIS LINE\n",
    "\"\"\"\n",
    "tests.test_fully_conn(fully_conn)"
   ]
  },
  {
   "cell_type": "markdown",
   "metadata": {},
   "source": [
    "### Output Layer\n",
    "Implement the `output` function to apply a fully connected layer to `x_tensor` with the shape (*Batch Size*, *num_outputs*). Shortcut option: you can use classes from the [TensorFlow Layers](https://www.tensorflow.org/api_docs/python/tf/layers) or [TensorFlow Layers (contrib)](https://www.tensorflow.org/api_guides/python/contrib.layers) packages for this layer. For more of a challenge, only use other TensorFlow packages.\n",
    "\n",
    "**Note:** Activation, softmax, or cross entropy should **not** be applied to this."
   ]
  },
  {
   "cell_type": "code",
   "execution_count": 6,
   "metadata": {},
   "outputs": [
    {
     "name": "stdout",
     "output_type": "stream",
     "text": [
      "Tests Passed\n"
     ]
    }
   ],
   "source": [
    "def output(x_tensor, num_outputs):\n",
    "    \"\"\"\n",
    "    Apply a output layer to x_tensor using weight and bias\n",
    "    : x_tensor: A 2-D tensor where the first dimension is batch size.\n",
    "    : num_outputs: The number of output that the new tensor should be.\n",
    "    : return: A 2-D tensor where the second dimension is num_outputs.\n",
    "    \"\"\"\n",
    "    # TODO: Implement Function\n",
    "    Out_layer = x_tensor.get_shape().as_list()[1]\n",
    "    weight_out = tf.Variable(tf.truncated_normal([x_tensor.get_shape().as_list()[1], num_outputs],\n",
    "                                             stddev=tf.sqrt(2.0/float(Out_layer))))\n",
    "    bias_out = tf.Variable(tf.zeros(num_outputs)) \n",
    "    output_layer = tf.add(tf.matmul(x_tensor, weight_out),bias_out)\n",
    "    return output_layer\n",
    "\n",
    "\n",
    "\"\"\"\n",
    "DON'T MODIFY ANYTHING IN THIS CELL THAT IS BELOW THIS LINE\n",
    "\"\"\"\n",
    "tests.test_output(output)"
   ]
  },
  {
   "cell_type": "markdown",
   "metadata": {},
   "source": [
    "### Create Convolutional Model\n",
    "Implement the function `conv_net` to create a convolutional neural network model. The function takes in a batch of images, `x`, and outputs logits.  Use the layers you created above to create this model:\n",
    "\n",
    "* Apply 1, 2, or 3 Convolution and Max Pool layers\n",
    "* Apply a Flatten Layer\n",
    "* Apply 1, 2, or 3 Fully Connected Layers\n",
    "* Apply an Output Layer\n",
    "* Return the output\n",
    "* Apply [TensorFlow's Dropout](https://www.tensorflow.org/api_docs/python/tf/nn/dropout) to one or more layers in the model using `keep_prob`. "
   ]
  },
  {
   "cell_type": "code",
   "execution_count": 7,
   "metadata": {},
   "outputs": [
    {
     "name": "stdout",
     "output_type": "stream",
     "text": [
      "Neural Network Built!\n"
     ]
    }
   ],
   "source": [
    "def conv_net(x, keep_prob):\n",
    "    \"\"\"\n",
    "    Create a convolutional neural network model\n",
    "    : x: Placeholder tensor that holds image data.\n",
    "    : keep_prob: Placeholder tensor that hold dropout keep probability.\n",
    "    : return: Tensor that represents logits\n",
    "    \"\"\"\n",
    "    # TODO: Apply 1, 2, or 3 Convolution and Max Pool layers\n",
    "    #    Play around with different number of outputs, kernel size and stride\n",
    "    # Function Definition from Above:\n",
    "    #    conv2d_maxpool(x_tensor, conv_num_outputs, conv_ksize, conv_strides, pool_ksize, pool_strides)\n",
    "    conv_layers = 3\n",
    "    conv_outputs = [16, 32, 64]\n",
    "    conv_ksizes = [[4, 4], [4, 4], [4, 4]]\n",
    "    conv_strides = [[1, 1], [1, 1], [1, 1]]\n",
    "    \n",
    "    pool_ksizes = [[2, 2], [2, 2], [2, 2]]\n",
    "    pool_strides = [[2, 2], [2, 2], [2, 2]]\n",
    "\n",
    "    conv_layer = x \n",
    "    for i in range(conv_layers):\n",
    "        conv_layer = conv2d_maxpool(conv_layer,conv_outputs[i],\n",
    "                                    conv_ksizes[i],conv_strides[i],pool_ksizes[i],pool_strides[i])\n",
    "        conv_layer = conv2d_maxpool(conv_layer,conv_outputs[i],\n",
    "                                    conv_ksizes[i],conv_strides[i],pool_ksizes[i],pool_strides[i])\n",
    "        conv_layer = tf.nn.dropout(conv_layer, keep_prob)\n",
    "\n",
    "    # TODO: Apply a Flatten Layer\n",
    "    # Function Definition from Above:\n",
    "    #   flatten(x_tensor)\n",
    "    flat_layer = flatten(conv_layer)\n",
    "    \n",
    "    # TODO: Apply 1, 2, or 3 Fully Connected Layers\n",
    "    #    Play around with different number of outputs\n",
    "    # Function Definition from Above:\n",
    "    #   fully_conn(x_tensor, num_outputs)\n",
    "    #model = fully_conn(model, 512)\n",
    "    fully_conn_layer=flat_layer\n",
    "    #full_outputs = [256,128]\n",
    "    #num_fully_conn_layers = 2\n",
    "    #fully_num_outputs = 10\n",
    "    #for i in range(num_fully_conn_layers):\n",
    "    #    fully_conn_layer = fully_conn(fully_conn_layer, full_outputs[i])\n",
    "    #    fully_conn_layer = tf.nn.dropout(fully_conn_layer, 0.75*keep_prob)\n",
    "    \n",
    "    fully_conn_layer1 = fully_conn(fully_conn_layer, 512)\n",
    "    fully_conn_layer2 = tf.nn.dropout(fully_conn_layer1, keep_prob)\n",
    "    fully_conn_layer3 = fully_conn(fully_conn_layer2, 256)\n",
    "    fully_conn_layer4 = tf.nn.dropout(fully_conn_layer3, keep_prob)\n",
    "    \n",
    "    #full_layer1 = fully_conn(layer4, 10)\n",
    "    #full_layer1 = tf.nn.dropout(full_layer1, keep_prob)\n",
    "\n",
    "    # TODO: Apply an Output Layer\n",
    "    #    Set this to the number of classes\n",
    "    # Function Definition from Above:\n",
    "    #   output(x_tensor, num_outputs)\n",
    "    result = output(fully_conn_layer4, 10)\n",
    "    #result = output(full_layer2, 10)\n",
    "    \n",
    "    # TODO: return output\n",
    "    return result\n",
    "\n",
    "\n",
    "\"\"\"\n",
    "DON'T MODIFY ANYTHING IN THIS CELL THAT IS BELOW THIS LINE\n",
    "\"\"\"\n",
    "\n",
    "##############################\n",
    "## Build the Neural Network ##\n",
    "##############################\n",
    "\n",
    "# Remove previous weights, bias, inputs, etc..\n",
    "tf.reset_default_graph()\n",
    "\n",
    "# Inputs\n",
    "x = neural_net_image_input((32, 32, 3))\n",
    "y = neural_net_label_input(10)\n",
    "keep_prob = neural_net_keep_prob_input()\n",
    "\n",
    "# Model\n",
    "logits = conv_net(x, keep_prob)\n",
    "\n",
    "# Name logits Tensor, so that is can be loaded from disk after training\n",
    "logits = tf.identity(logits, name='logits')\n",
    "\n",
    "# Loss and Optimizer\n",
    "cost = tf.reduce_mean(tf.nn.softmax_cross_entropy_with_logits(logits=logits, labels=y))\n",
    "optimizer = tf.train.AdamOptimizer().minimize(cost)\n",
    "\n",
    "# Accuracy\n",
    "correct_pred = tf.equal(tf.argmax(logits, 1), tf.argmax(y, 1))\n",
    "accuracy = tf.reduce_mean(tf.cast(correct_pred, tf.float32), name='accuracy')\n",
    "\n",
    "tests.test_conv_net(conv_net)"
   ]
  },
  {
   "cell_type": "markdown",
   "metadata": {},
   "source": [
    "## Train the Neural Network\n",
    "### Single Optimization\n",
    "Implement the function `train_neural_network` to do a single optimization.  The optimization should use `optimizer` to optimize in `session` with a `feed_dict` of the following:\n",
    "* `x` for image input\n",
    "* `y` for labels\n",
    "* `keep_prob` for keep probability for dropout\n",
    "\n",
    "This function will be called for each batch, so `tf.global_variables_initializer()` has already been called.\n",
    "\n",
    "Note: Nothing needs to be returned. This function is only optimizing the neural network."
   ]
  },
  {
   "cell_type": "code",
   "execution_count": 8,
   "metadata": {},
   "outputs": [
    {
     "name": "stdout",
     "output_type": "stream",
     "text": [
      "Tests Passed\n"
     ]
    }
   ],
   "source": [
    "def train_neural_network(session, optimizer, keep_probability, feature_batch, label_batch):\n",
    "    \"\"\"\n",
    "    Optimize the session on a batch of images and labels\n",
    "    : session: Current TensorFlow session\n",
    "    : optimizer: TensorFlow optimizer function\n",
    "    : keep_probability: keep probability\n",
    "    : feature_batch: Batch of Numpy image data\n",
    "    : label_batch: Batch of Numpy label data\n",
    "    \"\"\"\n",
    "    # TODO: Implement Function\n",
    "    session.run(optimizer, feed_dict={keep_prob: keep_probability, x: feature_batch, y: label_batch})\n",
    "        \n",
    "    pass\n",
    "\n",
    "\n",
    "\"\"\"\n",
    "DON'T MODIFY ANYTHING IN THIS CELL THAT IS BELOW THIS LINE\n",
    "\"\"\"\n",
    "tests.test_train_nn(train_neural_network)"
   ]
  },
  {
   "cell_type": "markdown",
   "metadata": {},
   "source": [
    "### Show Stats\n",
    "Implement the function `print_stats` to print loss and validation accuracy.  Use the global variables `valid_features` and `valid_labels` to calculate validation accuracy.  Use a keep probability of `1.0` to calculate the loss and validation accuracy."
   ]
  },
  {
   "cell_type": "code",
   "execution_count": 9,
   "metadata": {
    "collapsed": true
   },
   "outputs": [],
   "source": [
    "def print_stats(session, feature_batch, label_batch, cost, accuracy):\n",
    "    \"\"\"\n",
    "    Print information about loss and validation accuracy\n",
    "    : session: Current TensorFlow session\n",
    "    : feature_batch: Batch of Numpy image data\n",
    "    : label_batch: Batch of Numpy label data\n",
    "    : cost: TensorFlow cost function\n",
    "    : accuracy: TensorFlow accuracy function\n",
    "    \"\"\"\n",
    "    # TODO: Implement Function\n",
    "    loss = session.run(cost, feed_dict={x: feature_batch, y: label_batch, keep_prob: 1.0})\n",
    "    validation_accuracy = session.run(accuracy, feed_dict={x: valid_features, y: valid_labels, keep_prob: 1.0})\n",
    "    \n",
    "    print('loss: {}, validation_accuracy: {}'.format(loss, validation_accuracy))\n",
    "    "
   ]
  },
  {
   "cell_type": "markdown",
   "metadata": {},
   "source": [
    "### Hyperparameters\n",
    "Tune the following parameters:\n",
    "* Set `epochs` to the number of iterations until the network stops learning or start overfitting\n",
    "* Set `batch_size` to the highest number that your machine has memory for.  Most people set them to common sizes of memory:\n",
    " * 64\n",
    " * 128\n",
    " * 256\n",
    " * ...\n",
    "* Set `keep_probability` to the probability of keeping a node using dropout"
   ]
  },
  {
   "cell_type": "code",
   "execution_count": 10,
   "metadata": {
    "collapsed": true
   },
   "outputs": [],
   "source": [
    "# TODO: Tune Parameters\n",
    "epochs = 50\n",
    "batch_size = 256\n",
    "keep_probability = 0.7"
   ]
  },
  {
   "cell_type": "markdown",
   "metadata": {},
   "source": [
    "### Train on a Single CIFAR-10 Batch\n",
    "Instead of training the neural network on all the CIFAR-10 batches of data, let's use a single batch. This should save time while you iterate on the model to get a better accuracy.  Once the final validation accuracy is 50% or greater, run the model on all the data in the next section."
   ]
  },
  {
   "cell_type": "code",
   "execution_count": 11,
   "metadata": {},
   "outputs": [
    {
     "name": "stdout",
     "output_type": "stream",
     "text": [
      "Checking the Training on a Single Batch...\n",
      "Epoch  1, CIFAR-10 Batch 1:  loss: 2.2354846000671387, validation_accuracy: 0.17900000512599945\n",
      "Epoch  2, CIFAR-10 Batch 1:  loss: 2.146359920501709, validation_accuracy: 0.21619999408721924\n",
      "Epoch  3, CIFAR-10 Batch 1:  loss: 2.0609779357910156, validation_accuracy: 0.2653999924659729\n",
      "Epoch  4, CIFAR-10 Batch 1:  loss: 1.95883047580719, validation_accuracy: 0.3084000051021576\n",
      "Epoch  5, CIFAR-10 Batch 1:  loss: 1.7929481267929077, validation_accuracy: 0.34299999475479126\n",
      "Epoch  6, CIFAR-10 Batch 1:  loss: 1.6867170333862305, validation_accuracy: 0.3564000129699707\n",
      "Epoch  7, CIFAR-10 Batch 1:  loss: 1.5371588468551636, validation_accuracy: 0.38580000400543213\n",
      "Epoch  8, CIFAR-10 Batch 1:  loss: 1.4801263809204102, validation_accuracy: 0.387800008058548\n",
      "Epoch  9, CIFAR-10 Batch 1:  loss: 1.4582589864730835, validation_accuracy: 0.4023999869823456\n",
      "Epoch 10, CIFAR-10 Batch 1:  loss: 1.3899729251861572, validation_accuracy: 0.4174000024795532\n",
      "Epoch 11, CIFAR-10 Batch 1:  loss: 1.3516629934310913, validation_accuracy: 0.41839998960494995\n",
      "Epoch 12, CIFAR-10 Batch 1:  loss: 1.3033573627471924, validation_accuracy: 0.42879998683929443\n",
      "Epoch 13, CIFAR-10 Batch 1:  loss: 1.2511773109436035, validation_accuracy: 0.4309999942779541\n",
      "Epoch 14, CIFAR-10 Batch 1:  loss: 1.2238576412200928, validation_accuracy: 0.44040000438690186\n",
      "Epoch 15, CIFAR-10 Batch 1:  loss: 1.1538200378417969, validation_accuracy: 0.4426000118255615\n",
      "Epoch 16, CIFAR-10 Batch 1:  loss: 1.1332415342330933, validation_accuracy: 0.44760000705718994\n",
      "Epoch 17, CIFAR-10 Batch 1:  loss: 1.1025636196136475, validation_accuracy: 0.46059998869895935\n",
      "Epoch 18, CIFAR-10 Batch 1:  loss: 1.0599424839019775, validation_accuracy: 0.4643999934196472\n",
      "Epoch 19, CIFAR-10 Batch 1:  loss: 1.0298488140106201, validation_accuracy: 0.47200000286102295\n",
      "Epoch 20, CIFAR-10 Batch 1:  loss: 1.0005581378936768, validation_accuracy: 0.4832000136375427\n",
      "Epoch 21, CIFAR-10 Batch 1:  loss: 0.9821193814277649, validation_accuracy: 0.4666000008583069\n",
      "Epoch 22, CIFAR-10 Batch 1:  loss: 0.9399736523628235, validation_accuracy: 0.48100000619888306\n",
      "Epoch 23, CIFAR-10 Batch 1:  loss: 0.9890510439872742, validation_accuracy: 0.4731999933719635\n",
      "Epoch 24, CIFAR-10 Batch 1:  loss: 0.8632646799087524, validation_accuracy: 0.4957999885082245\n",
      "Epoch 25, CIFAR-10 Batch 1:  loss: 0.8982200622558594, validation_accuracy: 0.4844000041484833\n",
      "Epoch 26, CIFAR-10 Batch 1:  loss: 0.9023615121841431, validation_accuracy: 0.4765999913215637\n",
      "Epoch 27, CIFAR-10 Batch 1:  loss: 0.8095806837081909, validation_accuracy: 0.5037999749183655\n",
      "Epoch 28, CIFAR-10 Batch 1:  loss: 0.7611266374588013, validation_accuracy: 0.5044000148773193\n",
      "Epoch 29, CIFAR-10 Batch 1:  loss: 0.7720967531204224, validation_accuracy: 0.503000020980835\n",
      "Epoch 30, CIFAR-10 Batch 1:  loss: 0.7393292188644409, validation_accuracy: 0.5113999843597412\n",
      "Epoch 31, CIFAR-10 Batch 1:  loss: 0.7234411835670471, validation_accuracy: 0.5054000020027161\n",
      "Epoch 32, CIFAR-10 Batch 1:  loss: 0.7087690830230713, validation_accuracy: 0.5085999965667725\n",
      "Epoch 33, CIFAR-10 Batch 1:  loss: 0.7066069841384888, validation_accuracy: 0.5044000148773193\n",
      "Epoch 34, CIFAR-10 Batch 1:  loss: 0.6947565078735352, validation_accuracy: 0.5139999985694885\n",
      "Epoch 35, CIFAR-10 Batch 1:  loss: 0.6694599390029907, validation_accuracy: 0.5248000025749207\n",
      "Epoch 36, CIFAR-10 Batch 1:  loss: 0.6315574645996094, validation_accuracy: 0.5271999835968018\n",
      "Epoch 37, CIFAR-10 Batch 1:  loss: 0.6339315176010132, validation_accuracy: 0.5131999850273132\n",
      "Epoch 38, CIFAR-10 Batch 1:  loss: 0.6298744082450867, validation_accuracy: 0.5350000262260437\n",
      "Epoch 39, CIFAR-10 Batch 1:  loss: 0.5980068445205688, validation_accuracy: 0.5253999829292297\n",
      "Epoch 40, CIFAR-10 Batch 1:  loss: 0.6686341166496277, validation_accuracy: 0.5230000019073486\n",
      "Epoch 41, CIFAR-10 Batch 1:  loss: 0.6048415899276733, validation_accuracy: 0.5278000235557556\n",
      "Epoch 42, CIFAR-10 Batch 1:  loss: 0.5995080471038818, validation_accuracy: 0.527400016784668\n",
      "Epoch 43, CIFAR-10 Batch 1:  loss: 0.5877021551132202, validation_accuracy: 0.5325999855995178\n",
      "Epoch 44, CIFAR-10 Batch 1:  loss: 0.6181979179382324, validation_accuracy: 0.5185999870300293\n",
      "Epoch 45, CIFAR-10 Batch 1:  loss: 0.615014374256134, validation_accuracy: 0.5189999938011169\n",
      "Epoch 46, CIFAR-10 Batch 1:  loss: 0.5780690312385559, validation_accuracy: 0.5392000079154968\n",
      "Epoch 47, CIFAR-10 Batch 1:  loss: 0.5840795636177063, validation_accuracy: 0.5338000059127808\n",
      "Epoch 48, CIFAR-10 Batch 1:  loss: 0.557958722114563, validation_accuracy: 0.5429999828338623\n",
      "Epoch 49, CIFAR-10 Batch 1:  loss: 0.5387365221977234, validation_accuracy: 0.5447999835014343\n",
      "Epoch 50, CIFAR-10 Batch 1:  loss: 0.55511873960495, validation_accuracy: 0.5350000262260437\n"
     ]
    }
   ],
   "source": [
    "\"\"\"\n",
    "DON'T MODIFY ANYTHING IN THIS CELL\n",
    "\"\"\"\n",
    "print('Checking the Training on a Single Batch...')\n",
    "with tf.Session() as sess:\n",
    "    # Initializing the variables\n",
    "    sess.run(tf.global_variables_initializer())\n",
    "    \n",
    "    # Training cycle\n",
    "    for epoch in range(epochs):\n",
    "        batch_i = 1\n",
    "        for batch_features, batch_labels in helper.load_preprocess_training_batch(batch_i, batch_size):\n",
    "            train_neural_network(sess, optimizer, keep_probability, batch_features, batch_labels)\n",
    "        print('Epoch {:>2}, CIFAR-10 Batch {}:  '.format(epoch + 1, batch_i), end='')\n",
    "        print_stats(sess, batch_features, batch_labels, cost, accuracy)"
   ]
  },
  {
   "cell_type": "markdown",
   "metadata": {},
   "source": [
    "### Fully Train the Model\n",
    "Now that you got a good accuracy with a single CIFAR-10 batch, try it with all five batches."
   ]
  },
  {
   "cell_type": "code",
   "execution_count": 12,
   "metadata": {},
   "outputs": [
    {
     "name": "stdout",
     "output_type": "stream",
     "text": [
      "Training...\n",
      "Epoch  1, CIFAR-10 Batch 1:  loss: 2.194897174835205, validation_accuracy: 0.1746000051498413\n",
      "Epoch  1, CIFAR-10 Batch 2:  loss: 1.9776866436004639, validation_accuracy: 0.2160000056028366\n",
      "Epoch  1, CIFAR-10 Batch 3:  loss: 1.7706387042999268, validation_accuracy: 0.25839999318122864\n",
      "Epoch  1, CIFAR-10 Batch 4:  loss: 1.774187684059143, validation_accuracy: 0.28360000252723694\n",
      "Epoch  1, CIFAR-10 Batch 5:  loss: 1.787214994430542, validation_accuracy: 0.3208000063896179\n",
      "Epoch  2, CIFAR-10 Batch 1:  loss: 1.9044243097305298, validation_accuracy: 0.3370000123977661\n",
      "Epoch  2, CIFAR-10 Batch 2:  loss: 1.7304071187973022, validation_accuracy: 0.36160001158714294\n",
      "Epoch  2, CIFAR-10 Batch 3:  loss: 1.399051547050476, validation_accuracy: 0.36559998989105225\n",
      "Epoch  2, CIFAR-10 Batch 4:  loss: 1.6202476024627686, validation_accuracy: 0.3919999897480011\n",
      "Epoch  2, CIFAR-10 Batch 5:  loss: 1.6985687017440796, validation_accuracy: 0.35760000348091125\n",
      "Epoch  3, CIFAR-10 Batch 1:  loss: 1.6653468608856201, validation_accuracy: 0.412200003862381\n",
      "Epoch  3, CIFAR-10 Batch 2:  loss: 1.5678584575653076, validation_accuracy: 0.40939998626708984\n",
      "Epoch  3, CIFAR-10 Batch 3:  loss: 1.2785435914993286, validation_accuracy: 0.423799991607666\n",
      "Epoch  3, CIFAR-10 Batch 4:  loss: 1.644952416419983, validation_accuracy: 0.41920000314712524\n",
      "Epoch  3, CIFAR-10 Batch 5:  loss: 1.5532885789871216, validation_accuracy: 0.4392000138759613\n",
      "Epoch  4, CIFAR-10 Batch 1:  loss: 1.4768531322479248, validation_accuracy: 0.46160000562667847\n",
      "Epoch  4, CIFAR-10 Batch 2:  loss: 1.3962879180908203, validation_accuracy: 0.4431999921798706\n",
      "Epoch  4, CIFAR-10 Batch 3:  loss: 1.164198875427246, validation_accuracy: 0.45980000495910645\n",
      "Epoch  4, CIFAR-10 Batch 4:  loss: 1.3596844673156738, validation_accuracy: 0.47200000286102295\n",
      "Epoch  4, CIFAR-10 Batch 5:  loss: 1.4092894792556763, validation_accuracy: 0.4758000075817108\n",
      "Epoch  5, CIFAR-10 Batch 1:  loss: 1.3908964395523071, validation_accuracy: 0.48080000281333923\n",
      "Epoch  5, CIFAR-10 Batch 2:  loss: 1.3366563320159912, validation_accuracy: 0.46540001034736633\n",
      "Epoch  5, CIFAR-10 Batch 3:  loss: 1.0663058757781982, validation_accuracy: 0.4970000088214874\n",
      "Epoch  5, CIFAR-10 Batch 4:  loss: 1.2624022960662842, validation_accuracy: 0.4970000088214874\n",
      "Epoch  5, CIFAR-10 Batch 5:  loss: 1.2610737085342407, validation_accuracy: 0.4867999851703644\n",
      "Epoch  6, CIFAR-10 Batch 1:  loss: 1.2930128574371338, validation_accuracy: 0.5022000074386597\n",
      "Epoch  6, CIFAR-10 Batch 2:  loss: 1.278434157371521, validation_accuracy: 0.4668000042438507\n",
      "Epoch  6, CIFAR-10 Batch 3:  loss: 1.0543098449707031, validation_accuracy: 0.5131999850273132\n",
      "Epoch  6, CIFAR-10 Batch 4:  loss: 1.1804603338241577, validation_accuracy: 0.5347999930381775\n",
      "Epoch  6, CIFAR-10 Batch 5:  loss: 1.2403624057769775, validation_accuracy: 0.5041999816894531\n",
      "Epoch  7, CIFAR-10 Batch 1:  loss: 1.2422749996185303, validation_accuracy: 0.5234000086784363\n",
      "Epoch  7, CIFAR-10 Batch 2:  loss: 1.2219661474227905, validation_accuracy: 0.5266000032424927\n",
      "Epoch  7, CIFAR-10 Batch 3:  loss: 0.9710099101066589, validation_accuracy: 0.5437999963760376\n",
      "Epoch  7, CIFAR-10 Batch 4:  loss: 1.1001176834106445, validation_accuracy: 0.5364000201225281\n",
      "Epoch  7, CIFAR-10 Batch 5:  loss: 1.1256904602050781, validation_accuracy: 0.5404000282287598\n",
      "Epoch  8, CIFAR-10 Batch 1:  loss: 1.1323562860488892, validation_accuracy: 0.5497999787330627\n",
      "Epoch  8, CIFAR-10 Batch 2:  loss: 1.1773239374160767, validation_accuracy: 0.5527999997138977\n",
      "Epoch  8, CIFAR-10 Batch 3:  loss: 1.0097240209579468, validation_accuracy: 0.5199999809265137\n",
      "Epoch  8, CIFAR-10 Batch 4:  loss: 1.0853848457336426, validation_accuracy: 0.5631999969482422\n",
      "Epoch  8, CIFAR-10 Batch 5:  loss: 1.1773474216461182, validation_accuracy: 0.521399974822998\n",
      "Epoch  9, CIFAR-10 Batch 1:  loss: 1.0841203927993774, validation_accuracy: 0.5637999773025513\n",
      "Epoch  9, CIFAR-10 Batch 2:  loss: 1.0761029720306396, validation_accuracy: 0.5511999726295471\n",
      "Epoch  9, CIFAR-10 Batch 3:  loss: 0.911702036857605, validation_accuracy: 0.5587999820709229\n",
      "Epoch  9, CIFAR-10 Batch 4:  loss: 0.9968470335006714, validation_accuracy: 0.5795999765396118\n",
      "Epoch  9, CIFAR-10 Batch 5:  loss: 1.0551974773406982, validation_accuracy: 0.5641999840736389\n",
      "Epoch 10, CIFAR-10 Batch 1:  loss: 1.120557188987732, validation_accuracy: 0.5849999785423279\n",
      "Epoch 10, CIFAR-10 Batch 2:  loss: 1.052746057510376, validation_accuracy: 0.5411999821662903\n",
      "Epoch 10, CIFAR-10 Batch 3:  loss: 0.8919256925582886, validation_accuracy: 0.5767999887466431\n",
      "Epoch 10, CIFAR-10 Batch 4:  loss: 0.9513336420059204, validation_accuracy: 0.5964000225067139\n",
      "Epoch 10, CIFAR-10 Batch 5:  loss: 1.010653018951416, validation_accuracy: 0.5802000164985657\n",
      "Epoch 11, CIFAR-10 Batch 1:  loss: 1.0673989057540894, validation_accuracy: 0.5789999961853027\n",
      "Epoch 11, CIFAR-10 Batch 2:  loss: 1.0142940282821655, validation_accuracy: 0.5550000071525574\n",
      "Epoch 11, CIFAR-10 Batch 3:  loss: 0.8780524134635925, validation_accuracy: 0.5907999873161316\n",
      "Epoch 11, CIFAR-10 Batch 4:  loss: 0.8945021629333496, validation_accuracy: 0.597000002861023\n",
      "Epoch 11, CIFAR-10 Batch 5:  loss: 1.0110173225402832, validation_accuracy: 0.5591999888420105\n",
      "Epoch 12, CIFAR-10 Batch 1:  loss: 1.0677635669708252, validation_accuracy: 0.600600004196167\n",
      "Epoch 12, CIFAR-10 Batch 2:  loss: 1.0410892963409424, validation_accuracy: 0.5885999798774719\n",
      "Epoch 12, CIFAR-10 Batch 3:  loss: 0.8827041387557983, validation_accuracy: 0.5893999934196472\n",
      "Epoch 12, CIFAR-10 Batch 4:  loss: 0.9112008810043335, validation_accuracy: 0.5911999940872192\n",
      "Epoch 12, CIFAR-10 Batch 5:  loss: 0.9162230491638184, validation_accuracy: 0.5961999893188477\n",
      "Epoch 13, CIFAR-10 Batch 1:  loss: 1.0202672481536865, validation_accuracy: 0.5838000178337097\n",
      "Epoch 13, CIFAR-10 Batch 2:  loss: 0.9647088050842285, validation_accuracy: 0.5673999786376953\n",
      "Epoch 13, CIFAR-10 Batch 3:  loss: 0.8449568748474121, validation_accuracy: 0.6003999710083008\n",
      "Epoch 13, CIFAR-10 Batch 4:  loss: 0.8258938789367676, validation_accuracy: 0.6154000163078308\n",
      "Epoch 13, CIFAR-10 Batch 5:  loss: 0.8803807497024536, validation_accuracy: 0.5989999771118164\n",
      "Epoch 14, CIFAR-10 Batch 1:  loss: 0.9681779742240906, validation_accuracy: 0.6155999898910522\n",
      "Epoch 14, CIFAR-10 Batch 2:  loss: 0.9205072522163391, validation_accuracy: 0.5673999786376953\n",
      "Epoch 14, CIFAR-10 Batch 3:  loss: 0.8082987070083618, validation_accuracy: 0.6111999750137329\n",
      "Epoch 14, CIFAR-10 Batch 4:  loss: 0.8335304260253906, validation_accuracy: 0.616599977016449\n",
      "Epoch 14, CIFAR-10 Batch 5:  loss: 0.8435614705085754, validation_accuracy: 0.5925999879837036\n",
      "Epoch 15, CIFAR-10 Batch 1:  loss: 0.9162524938583374, validation_accuracy: 0.61080002784729\n",
      "Epoch 15, CIFAR-10 Batch 2:  loss: 0.9145059585571289, validation_accuracy: 0.6018000245094299\n",
      "Epoch 15, CIFAR-10 Batch 3:  loss: 0.8048759698867798, validation_accuracy: 0.621999979019165\n",
      "Epoch 15, CIFAR-10 Batch 4:  loss: 0.8052486181259155, validation_accuracy: 0.6208000183105469\n",
      "Epoch 15, CIFAR-10 Batch 5:  loss: 0.8468958735466003, validation_accuracy: 0.5929999947547913\n",
      "Epoch 16, CIFAR-10 Batch 1:  loss: 0.8677467107772827, validation_accuracy: 0.6151999831199646\n",
      "Epoch 16, CIFAR-10 Batch 2:  loss: 0.9017834663391113, validation_accuracy: 0.597000002861023\n",
      "Epoch 16, CIFAR-10 Batch 3:  loss: 0.7885211706161499, validation_accuracy: 0.6173999905586243\n",
      "Epoch 16, CIFAR-10 Batch 4:  loss: 0.7593456506729126, validation_accuracy: 0.628600001335144\n",
      "Epoch 16, CIFAR-10 Batch 5:  loss: 0.7798026204109192, validation_accuracy: 0.6123999953269958\n",
      "Epoch 17, CIFAR-10 Batch 1:  loss: 0.8475475311279297, validation_accuracy: 0.6305999755859375\n",
      "Epoch 17, CIFAR-10 Batch 2:  loss: 0.8833955526351929, validation_accuracy: 0.616599977016449\n",
      "Epoch 17, CIFAR-10 Batch 3:  loss: 0.7414172887802124, validation_accuracy: 0.6287999749183655\n",
      "Epoch 17, CIFAR-10 Batch 4:  loss: 0.7232702374458313, validation_accuracy: 0.6353999972343445\n",
      "Epoch 17, CIFAR-10 Batch 5:  loss: 0.7420881986618042, validation_accuracy: 0.6200000047683716\n",
      "Epoch 18, CIFAR-10 Batch 1:  loss: 0.8333767056465149, validation_accuracy: 0.6209999918937683\n"
     ]
    },
    {
     "name": "stdout",
     "output_type": "stream",
     "text": [
      "Epoch 18, CIFAR-10 Batch 2:  loss: 0.8141149282455444, validation_accuracy: 0.5950000286102295\n",
      "Epoch 18, CIFAR-10 Batch 3:  loss: 0.7744123339653015, validation_accuracy: 0.629800021648407\n",
      "Epoch 18, CIFAR-10 Batch 4:  loss: 0.8051465153694153, validation_accuracy: 0.6308000087738037\n",
      "Epoch 18, CIFAR-10 Batch 5:  loss: 0.747480034828186, validation_accuracy: 0.6367999911308289\n",
      "Epoch 19, CIFAR-10 Batch 1:  loss: 0.8606508374214172, validation_accuracy: 0.6222000122070312\n",
      "Epoch 19, CIFAR-10 Batch 2:  loss: 0.804897129535675, validation_accuracy: 0.6226000189781189\n",
      "Epoch 19, CIFAR-10 Batch 3:  loss: 0.7387884259223938, validation_accuracy: 0.6330000162124634\n",
      "Epoch 19, CIFAR-10 Batch 4:  loss: 0.7355372905731201, validation_accuracy: 0.6370000243186951\n",
      "Epoch 19, CIFAR-10 Batch 5:  loss: 0.7810004353523254, validation_accuracy: 0.6251999735832214\n",
      "Epoch 20, CIFAR-10 Batch 1:  loss: 0.8171593546867371, validation_accuracy: 0.6403999924659729\n",
      "Epoch 20, CIFAR-10 Batch 2:  loss: 0.7809556722640991, validation_accuracy: 0.6344000101089478\n",
      "Epoch 20, CIFAR-10 Batch 3:  loss: 0.7458146810531616, validation_accuracy: 0.6425999999046326\n",
      "Epoch 20, CIFAR-10 Batch 4:  loss: 0.6562296152114868, validation_accuracy: 0.6452000141143799\n",
      "Epoch 20, CIFAR-10 Batch 5:  loss: 0.7521884441375732, validation_accuracy: 0.6096000075340271\n",
      "Epoch 21, CIFAR-10 Batch 1:  loss: 0.8029611706733704, validation_accuracy: 0.640999972820282\n",
      "Epoch 21, CIFAR-10 Batch 2:  loss: 0.7012749910354614, validation_accuracy: 0.6326000094413757\n",
      "Epoch 21, CIFAR-10 Batch 3:  loss: 0.6782156229019165, validation_accuracy: 0.6466000080108643\n",
      "Epoch 21, CIFAR-10 Batch 4:  loss: 0.6991270780563354, validation_accuracy: 0.6431999802589417\n",
      "Epoch 21, CIFAR-10 Batch 5:  loss: 0.7349103689193726, validation_accuracy: 0.6172000169754028\n",
      "Epoch 22, CIFAR-10 Batch 1:  loss: 0.7740439176559448, validation_accuracy: 0.651199996471405\n",
      "Epoch 22, CIFAR-10 Batch 2:  loss: 0.7849764823913574, validation_accuracy: 0.6136000156402588\n",
      "Epoch 22, CIFAR-10 Batch 3:  loss: 0.7012332081794739, validation_accuracy: 0.6547999978065491\n",
      "Epoch 22, CIFAR-10 Batch 4:  loss: 0.6383695602416992, validation_accuracy: 0.6489999890327454\n",
      "Epoch 22, CIFAR-10 Batch 5:  loss: 0.6591849327087402, validation_accuracy: 0.6388000249862671\n",
      "Epoch 23, CIFAR-10 Batch 1:  loss: 0.7376607656478882, validation_accuracy: 0.6543999910354614\n",
      "Epoch 23, CIFAR-10 Batch 2:  loss: 0.6898979544639587, validation_accuracy: 0.6341999769210815\n",
      "Epoch 23, CIFAR-10 Batch 3:  loss: 0.7081974148750305, validation_accuracy: 0.6498000025749207\n",
      "Epoch 23, CIFAR-10 Batch 4:  loss: 0.6585559844970703, validation_accuracy: 0.6543999910354614\n",
      "Epoch 23, CIFAR-10 Batch 5:  loss: 0.579706072807312, validation_accuracy: 0.649399995803833\n",
      "Epoch 24, CIFAR-10 Batch 1:  loss: 0.749908447265625, validation_accuracy: 0.6510000228881836\n",
      "Epoch 24, CIFAR-10 Batch 2:  loss: 0.7492125630378723, validation_accuracy: 0.6273999810218811\n",
      "Epoch 24, CIFAR-10 Batch 3:  loss: 0.6756943464279175, validation_accuracy: 0.6481999754905701\n",
      "Epoch 24, CIFAR-10 Batch 4:  loss: 0.5934198498725891, validation_accuracy: 0.6600000262260437\n",
      "Epoch 24, CIFAR-10 Batch 5:  loss: 0.6354721784591675, validation_accuracy: 0.6528000235557556\n",
      "Epoch 25, CIFAR-10 Batch 1:  loss: 0.7215558290481567, validation_accuracy: 0.6601999998092651\n",
      "Epoch 25, CIFAR-10 Batch 2:  loss: 0.7026427388191223, validation_accuracy: 0.6384000182151794\n",
      "Epoch 25, CIFAR-10 Batch 3:  loss: 0.7330690622329712, validation_accuracy: 0.6434000134468079\n",
      "Epoch 25, CIFAR-10 Batch 4:  loss: 0.6265705823898315, validation_accuracy: 0.6642000079154968\n",
      "Epoch 25, CIFAR-10 Batch 5:  loss: 0.6408092975616455, validation_accuracy: 0.6592000126838684\n",
      "Epoch 26, CIFAR-10 Batch 1:  loss: 0.7312285304069519, validation_accuracy: 0.6531999707221985\n",
      "Epoch 26, CIFAR-10 Batch 2:  loss: 0.6982020735740662, validation_accuracy: 0.6502000093460083\n",
      "Epoch 26, CIFAR-10 Batch 3:  loss: 0.6897735595703125, validation_accuracy: 0.6589999794960022\n",
      "Epoch 26, CIFAR-10 Batch 4:  loss: 0.6463792324066162, validation_accuracy: 0.6656000018119812\n",
      "Epoch 26, CIFAR-10 Batch 5:  loss: 0.5836594104766846, validation_accuracy: 0.6588000059127808\n",
      "Epoch 27, CIFAR-10 Batch 1:  loss: 0.7202255129814148, validation_accuracy: 0.6582000255584717\n",
      "Epoch 27, CIFAR-10 Batch 2:  loss: 0.6900246739387512, validation_accuracy: 0.6575999855995178\n",
      "Epoch 27, CIFAR-10 Batch 3:  loss: 0.6899601221084595, validation_accuracy: 0.6611999869346619\n",
      "Epoch 27, CIFAR-10 Batch 4:  loss: 0.6243608593940735, validation_accuracy: 0.6620000004768372\n",
      "Epoch 27, CIFAR-10 Batch 5:  loss: 0.5793582201004028, validation_accuracy: 0.6618000268936157\n",
      "Epoch 28, CIFAR-10 Batch 1:  loss: 0.6722704768180847, validation_accuracy: 0.6660000085830688\n",
      "Epoch 28, CIFAR-10 Batch 2:  loss: 0.6568369269371033, validation_accuracy: 0.6499999761581421\n",
      "Epoch 28, CIFAR-10 Batch 3:  loss: 0.6315487623214722, validation_accuracy: 0.6618000268936157\n",
      "Epoch 28, CIFAR-10 Batch 4:  loss: 0.6071738004684448, validation_accuracy: 0.6710000038146973\n",
      "Epoch 28, CIFAR-10 Batch 5:  loss: 0.6360969543457031, validation_accuracy: 0.6517999768257141\n",
      "Epoch 29, CIFAR-10 Batch 1:  loss: 0.6815036535263062, validation_accuracy: 0.6592000126838684\n",
      "Epoch 29, CIFAR-10 Batch 2:  loss: 0.6666733622550964, validation_accuracy: 0.657800018787384\n",
      "Epoch 29, CIFAR-10 Batch 3:  loss: 0.5996479392051697, validation_accuracy: 0.6656000018119812\n",
      "Epoch 29, CIFAR-10 Batch 4:  loss: 0.6072201728820801, validation_accuracy: 0.6660000085830688\n",
      "Epoch 29, CIFAR-10 Batch 5:  loss: 0.5788837671279907, validation_accuracy: 0.6606000065803528\n",
      "Epoch 30, CIFAR-10 Batch 1:  loss: 0.5916925072669983, validation_accuracy: 0.6646000146865845\n",
      "Epoch 30, CIFAR-10 Batch 2:  loss: 0.6532479524612427, validation_accuracy: 0.6693999767303467\n",
      "Epoch 30, CIFAR-10 Batch 3:  loss: 0.6311416029930115, validation_accuracy: 0.6761999726295471\n",
      "Epoch 30, CIFAR-10 Batch 4:  loss: 0.6325775384902954, validation_accuracy: 0.6638000011444092\n",
      "Epoch 30, CIFAR-10 Batch 5:  loss: 0.573111355304718, validation_accuracy: 0.6686000227928162\n",
      "Epoch 31, CIFAR-10 Batch 1:  loss: 0.6269314289093018, validation_accuracy: 0.6583999991416931\n",
      "Epoch 31, CIFAR-10 Batch 2:  loss: 0.6244862079620361, validation_accuracy: 0.6611999869346619\n",
      "Epoch 31, CIFAR-10 Batch 3:  loss: 0.6113296747207642, validation_accuracy: 0.6818000078201294\n",
      "Epoch 31, CIFAR-10 Batch 4:  loss: 0.5957285165786743, validation_accuracy: 0.6725999712944031\n",
      "Epoch 31, CIFAR-10 Batch 5:  loss: 0.5720388293266296, validation_accuracy: 0.6783999800682068\n",
      "Epoch 32, CIFAR-10 Batch 1:  loss: 0.6147882342338562, validation_accuracy: 0.6690000295639038\n",
      "Epoch 32, CIFAR-10 Batch 2:  loss: 0.6327506303787231, validation_accuracy: 0.6678000092506409\n",
      "Epoch 32, CIFAR-10 Batch 3:  loss: 0.6124030351638794, validation_accuracy: 0.6782000064849854\n",
      "Epoch 32, CIFAR-10 Batch 4:  loss: 0.5674948692321777, validation_accuracy: 0.6830000281333923\n",
      "Epoch 32, CIFAR-10 Batch 5:  loss: 0.5651425123214722, validation_accuracy: 0.6668000221252441\n",
      "Epoch 33, CIFAR-10 Batch 1:  loss: 0.6449100375175476, validation_accuracy: 0.6704000234603882\n",
      "Epoch 33, CIFAR-10 Batch 2:  loss: 0.6102097630500793, validation_accuracy: 0.6679999828338623\n",
      "Epoch 33, CIFAR-10 Batch 3:  loss: 0.5791833996772766, validation_accuracy: 0.675599992275238\n",
      "Epoch 33, CIFAR-10 Batch 4:  loss: 0.5719289183616638, validation_accuracy: 0.6827999949455261\n",
      "Epoch 33, CIFAR-10 Batch 5:  loss: 0.5704461932182312, validation_accuracy: 0.6808000206947327\n",
      "Epoch 34, CIFAR-10 Batch 1:  loss: 0.5717192888259888, validation_accuracy: 0.6746000051498413\n",
      "Epoch 34, CIFAR-10 Batch 2:  loss: 0.6215518712997437, validation_accuracy: 0.6801999807357788\n",
      "Epoch 34, CIFAR-10 Batch 3:  loss: 0.640385627746582, validation_accuracy: 0.6769999861717224\n",
      "Epoch 34, CIFAR-10 Batch 4:  loss: 0.5646302103996277, validation_accuracy: 0.6736000180244446\n",
      "Epoch 34, CIFAR-10 Batch 5:  loss: 0.6269654631614685, validation_accuracy: 0.6678000092506409\n",
      "Epoch 35, CIFAR-10 Batch 1:  loss: 0.6267999410629272, validation_accuracy: 0.6805999875068665\n",
      "Epoch 35, CIFAR-10 Batch 2:  loss: 0.6244266629219055, validation_accuracy: 0.6692000031471252\n",
      "Epoch 35, CIFAR-10 Batch 3:  loss: 0.5934953689575195, validation_accuracy: 0.6858000159263611\n"
     ]
    },
    {
     "name": "stdout",
     "output_type": "stream",
     "text": [
      "Epoch 35, CIFAR-10 Batch 4:  loss: 0.5867313146591187, validation_accuracy: 0.6697999835014343\n",
      "Epoch 35, CIFAR-10 Batch 5:  loss: 0.5618999600410461, validation_accuracy: 0.6787999868392944\n",
      "Epoch 36, CIFAR-10 Batch 1:  loss: 0.5723907351493835, validation_accuracy: 0.6633999943733215\n",
      "Epoch 36, CIFAR-10 Batch 2:  loss: 0.6178607940673828, validation_accuracy: 0.6651999950408936\n",
      "Epoch 36, CIFAR-10 Batch 3:  loss: 0.5714734792709351, validation_accuracy: 0.6935999989509583\n",
      "Epoch 36, CIFAR-10 Batch 4:  loss: 0.5555502772331238, validation_accuracy: 0.675599992275238\n",
      "Epoch 36, CIFAR-10 Batch 5:  loss: 0.6077792048454285, validation_accuracy: 0.6639999747276306\n",
      "Epoch 37, CIFAR-10 Batch 1:  loss: 0.6227174997329712, validation_accuracy: 0.6844000220298767\n",
      "Epoch 37, CIFAR-10 Batch 2:  loss: 0.5630418658256531, validation_accuracy: 0.6600000262260437\n",
      "Epoch 37, CIFAR-10 Batch 3:  loss: 0.5525655746459961, validation_accuracy: 0.6858000159263611\n",
      "Epoch 37, CIFAR-10 Batch 4:  loss: 0.5451948642730713, validation_accuracy: 0.6830000281333923\n",
      "Epoch 37, CIFAR-10 Batch 5:  loss: 0.5364677309989929, validation_accuracy: 0.6759999990463257\n",
      "Epoch 38, CIFAR-10 Batch 1:  loss: 0.5545085072517395, validation_accuracy: 0.6850000023841858\n",
      "Epoch 38, CIFAR-10 Batch 2:  loss: 0.5542708039283752, validation_accuracy: 0.6633999943733215\n",
      "Epoch 38, CIFAR-10 Batch 3:  loss: 0.593645453453064, validation_accuracy: 0.6841999888420105\n",
      "Epoch 38, CIFAR-10 Batch 4:  loss: 0.5347809195518494, validation_accuracy: 0.6886000037193298\n",
      "Epoch 38, CIFAR-10 Batch 5:  loss: 0.5380039215087891, validation_accuracy: 0.6674000024795532\n",
      "Epoch 39, CIFAR-10 Batch 1:  loss: 0.5931806564331055, validation_accuracy: 0.680400013923645\n",
      "Epoch 39, CIFAR-10 Batch 2:  loss: 0.5635554194450378, validation_accuracy: 0.682200014591217\n",
      "Epoch 39, CIFAR-10 Batch 3:  loss: 0.5769832730293274, validation_accuracy: 0.6808000206947327\n",
      "Epoch 39, CIFAR-10 Batch 4:  loss: 0.4974589943885803, validation_accuracy: 0.675000011920929\n",
      "Epoch 39, CIFAR-10 Batch 5:  loss: 0.5353215932846069, validation_accuracy: 0.6696000099182129\n",
      "Epoch 40, CIFAR-10 Batch 1:  loss: 0.597735583782196, validation_accuracy: 0.6772000193595886\n",
      "Epoch 40, CIFAR-10 Batch 2:  loss: 0.5616195797920227, validation_accuracy: 0.6776000261306763\n",
      "Epoch 40, CIFAR-10 Batch 3:  loss: 0.5504921078681946, validation_accuracy: 0.6899999976158142\n",
      "Epoch 40, CIFAR-10 Batch 4:  loss: 0.5096178650856018, validation_accuracy: 0.6862000226974487\n",
      "Epoch 40, CIFAR-10 Batch 5:  loss: 0.5854161381721497, validation_accuracy: 0.6646000146865845\n",
      "Epoch 41, CIFAR-10 Batch 1:  loss: 0.5524768829345703, validation_accuracy: 0.6868000030517578\n",
      "Epoch 41, CIFAR-10 Batch 2:  loss: 0.5102710723876953, validation_accuracy: 0.6758000254631042\n",
      "Epoch 41, CIFAR-10 Batch 3:  loss: 0.5866175889968872, validation_accuracy: 0.6812000274658203\n",
      "Epoch 41, CIFAR-10 Batch 4:  loss: 0.5164642930030823, validation_accuracy: 0.6908000111579895\n",
      "Epoch 41, CIFAR-10 Batch 5:  loss: 0.5464698076248169, validation_accuracy: 0.6776000261306763\n",
      "Epoch 42, CIFAR-10 Batch 1:  loss: 0.5593374371528625, validation_accuracy: 0.6890000104904175\n",
      "Epoch 42, CIFAR-10 Batch 2:  loss: 0.5507372617721558, validation_accuracy: 0.6638000011444092\n",
      "Epoch 42, CIFAR-10 Batch 3:  loss: 0.5648881793022156, validation_accuracy: 0.6848000288009644\n",
      "Epoch 42, CIFAR-10 Batch 4:  loss: 0.5274404287338257, validation_accuracy: 0.680400013923645\n",
      "Epoch 42, CIFAR-10 Batch 5:  loss: 0.5280030369758606, validation_accuracy: 0.6880000233650208\n",
      "Epoch 43, CIFAR-10 Batch 1:  loss: 0.5790789723396301, validation_accuracy: 0.6858000159263611\n",
      "Epoch 43, CIFAR-10 Batch 2:  loss: 0.530644416809082, validation_accuracy: 0.6700000166893005\n",
      "Epoch 43, CIFAR-10 Batch 3:  loss: 0.5588319897651672, validation_accuracy: 0.676800012588501\n",
      "Epoch 43, CIFAR-10 Batch 4:  loss: 0.5482323169708252, validation_accuracy: 0.6886000037193298\n",
      "Epoch 43, CIFAR-10 Batch 5:  loss: 0.5515548586845398, validation_accuracy: 0.6776000261306763\n",
      "Epoch 44, CIFAR-10 Batch 1:  loss: 0.5527711510658264, validation_accuracy: 0.6812000274658203\n",
      "Epoch 44, CIFAR-10 Batch 2:  loss: 0.5512627959251404, validation_accuracy: 0.652999997138977\n",
      "Epoch 44, CIFAR-10 Batch 3:  loss: 0.5636770725250244, validation_accuracy: 0.6754000186920166\n",
      "Epoch 44, CIFAR-10 Batch 4:  loss: 0.5518514513969421, validation_accuracy: 0.6905999779701233\n",
      "Epoch 44, CIFAR-10 Batch 5:  loss: 0.5220646262168884, validation_accuracy: 0.6916000247001648\n",
      "Epoch 45, CIFAR-10 Batch 1:  loss: 0.6067565083503723, validation_accuracy: 0.6765999794006348\n",
      "Epoch 45, CIFAR-10 Batch 2:  loss: 0.5149261355400085, validation_accuracy: 0.6832000017166138\n",
      "Epoch 45, CIFAR-10 Batch 3:  loss: 0.5486024618148804, validation_accuracy: 0.6891999840736389\n",
      "Epoch 45, CIFAR-10 Batch 4:  loss: 0.5280627608299255, validation_accuracy: 0.6859999895095825\n",
      "Epoch 45, CIFAR-10 Batch 5:  loss: 0.4864681363105774, validation_accuracy: 0.692799985408783\n",
      "Epoch 46, CIFAR-10 Batch 1:  loss: 0.557906985282898, validation_accuracy: 0.6922000050544739\n",
      "Epoch 46, CIFAR-10 Batch 2:  loss: 0.522590160369873, validation_accuracy: 0.6668000221252441\n",
      "Epoch 46, CIFAR-10 Batch 3:  loss: 0.5858790874481201, validation_accuracy: 0.6761999726295471\n",
      "Epoch 46, CIFAR-10 Batch 4:  loss: 0.5389305949211121, validation_accuracy: 0.6833999752998352\n",
      "Epoch 46, CIFAR-10 Batch 5:  loss: 0.5314387083053589, validation_accuracy: 0.682200014591217\n",
      "Epoch 47, CIFAR-10 Batch 1:  loss: 0.558854341506958, validation_accuracy: 0.6854000091552734\n",
      "Epoch 47, CIFAR-10 Batch 2:  loss: 0.4964376389980316, validation_accuracy: 0.6665999889373779\n",
      "Epoch 47, CIFAR-10 Batch 3:  loss: 0.5685120820999146, validation_accuracy: 0.6917999982833862\n",
      "Epoch 47, CIFAR-10 Batch 4:  loss: 0.5425018072128296, validation_accuracy: 0.6917999982833862\n",
      "Epoch 47, CIFAR-10 Batch 5:  loss: 0.4443681836128235, validation_accuracy: 0.6919999718666077\n",
      "Epoch 48, CIFAR-10 Batch 1:  loss: 0.5286396741867065, validation_accuracy: 0.6912000179290771\n",
      "Epoch 48, CIFAR-10 Batch 2:  loss: 0.5310292840003967, validation_accuracy: 0.6413999795913696\n",
      "Epoch 48, CIFAR-10 Batch 3:  loss: 0.5395829081535339, validation_accuracy: 0.6952000260353088\n",
      "Epoch 48, CIFAR-10 Batch 4:  loss: 0.523837685585022, validation_accuracy: 0.7024000287055969\n",
      "Epoch 48, CIFAR-10 Batch 5:  loss: 0.5050004124641418, validation_accuracy: 0.6912000179290771\n",
      "Epoch 49, CIFAR-10 Batch 1:  loss: 0.5484945774078369, validation_accuracy: 0.6944000124931335\n",
      "Epoch 49, CIFAR-10 Batch 2:  loss: 0.5562283396720886, validation_accuracy: 0.6883999705314636\n",
      "Epoch 49, CIFAR-10 Batch 3:  loss: 0.5727052688598633, validation_accuracy: 0.6697999835014343\n",
      "Epoch 49, CIFAR-10 Batch 4:  loss: 0.5150529742240906, validation_accuracy: 0.6926000118255615\n",
      "Epoch 49, CIFAR-10 Batch 5:  loss: 0.45075544714927673, validation_accuracy: 0.6949999928474426\n",
      "Epoch 50, CIFAR-10 Batch 1:  loss: 0.5858262777328491, validation_accuracy: 0.680400013923645\n",
      "Epoch 50, CIFAR-10 Batch 2:  loss: 0.5518631935119629, validation_accuracy: 0.6815999746322632\n",
      "Epoch 50, CIFAR-10 Batch 3:  loss: 0.5191190838813782, validation_accuracy: 0.7009999752044678\n",
      "Epoch 50, CIFAR-10 Batch 4:  loss: 0.5103168487548828, validation_accuracy: 0.6922000050544739\n",
      "Epoch 50, CIFAR-10 Batch 5:  loss: 0.4680640697479248, validation_accuracy: 0.6890000104904175\n"
     ]
    }
   ],
   "source": [
    "\"\"\"\n",
    "DON'T MODIFY ANYTHING IN THIS CELL\n",
    "\"\"\"\n",
    "save_model_path = './image_classification'\n",
    "\n",
    "print('Training...')\n",
    "with tf.Session() as sess:\n",
    "    # Initializing the variables\n",
    "    sess.run(tf.global_variables_initializer())\n",
    "    \n",
    "    # Training cycle\n",
    "    for epoch in range(epochs):\n",
    "        # Loop over all batches\n",
    "        n_batches = 5\n",
    "        for batch_i in range(1, n_batches + 1):\n",
    "            for batch_features, batch_labels in helper.load_preprocess_training_batch(batch_i, batch_size):\n",
    "                train_neural_network(sess, optimizer, keep_probability, batch_features, batch_labels)\n",
    "            print('Epoch {:>2}, CIFAR-10 Batch {}:  '.format(epoch + 1, batch_i), end='')\n",
    "            print_stats(sess, batch_features, batch_labels, cost, accuracy)\n",
    "            \n",
    "    # Save Model\n",
    "    saver = tf.train.Saver()\n",
    "    save_path = saver.save(sess, save_model_path)"
   ]
  },
  {
   "cell_type": "markdown",
   "metadata": {},
   "source": [
    "# Checkpoint\n",
    "The model has been saved to disk.\n",
    "## Test Model\n",
    "Test your model against the test dataset.  This will be your final accuracy. You should have an accuracy greater than 50%. If you don't, keep tweaking the model architecture and parameters."
   ]
  },
  {
   "cell_type": "code",
   "execution_count": 13,
   "metadata": {},
   "outputs": [
    {
     "name": "stdout",
     "output_type": "stream",
     "text": [
      "Testing Accuracy: 0.67255859375\n",
      "\n"
     ]
    },
    {
     "data": {
      "image/png": "[encoded data removed]",
      "text/plain": [
       "<matplotlib.figure.Figure at 0x186753b6470>"
      ]
     },
     "metadata": {
      "image/png": {
       "height": 319,
       "width": 355
      }
     },
     "output_type": "display_data"
    }
   ],
   "source": [
    "\"\"\"\n",
    "DON'T MODIFY ANYTHING IN THIS CELL\n",
    "\"\"\"\n",
    "%matplotlib inline\n",
    "%config InlineBackend.figure_format = 'retina'\n",
    "\n",
    "import tensorflow as tf\n",
    "import pickle\n",
    "import helper\n",
    "import random\n",
    "\n",
    "# Set batch size if not already set\n",
    "try:\n",
    "    if batch_size:\n",
    "        pass\n",
    "except NameError:\n",
    "    batch_size = 64\n",
    "\n",
    "save_model_path = './image_classification'\n",
    "n_samples = 4\n",
    "top_n_predictions = 3\n",
    "\n",
    "def test_model():\n",
    "    \"\"\"\n",
    "    Test the saved model against the test dataset\n",
    "    \"\"\"\n",
    "\n",
    "    test_features, test_labels = pickle.load(open('preprocess_training.p', mode='rb'))\n",
    "    loaded_graph = tf.Graph()\n",
    "\n",
    "    with tf.Session(graph=loaded_graph) as sess:\n",
    "        # Load model\n",
    "        loader = tf.train.import_meta_graph(save_model_path + '.meta')\n",
    "        loader.restore(sess, save_model_path)\n",
    "\n",
    "        # Get Tensors from loaded model\n",
    "        loaded_x = loaded_graph.get_tensor_by_name('x:0')\n",
    "        loaded_y = loaded_graph.get_tensor_by_name('y:0')\n",
    "        loaded_keep_prob = loaded_graph.get_tensor_by_name('keep_prob:0')\n",
    "        loaded_logits = loaded_graph.get_tensor_by_name('logits:0')\n",
    "        loaded_acc = loaded_graph.get_tensor_by_name('accuracy:0')\n",
    "        \n",
    "        # Get accuracy in batches for memory limitations\n",
    "        test_batch_acc_total = 0\n",
    "        test_batch_count = 0\n",
    "        \n",
    "        for train_feature_batch, train_label_batch in helper.batch_features_labels(test_features, test_labels, batch_size):\n",
    "            test_batch_acc_total += sess.run(\n",
    "                loaded_acc,\n",
    "                feed_dict={loaded_x: train_feature_batch, loaded_y: train_label_batch, loaded_keep_prob: 1.0})\n",
    "            test_batch_count += 1\n",
    "\n",
    "        print('Testing Accuracy: {}\\n'.format(test_batch_acc_total/test_batch_count))\n",
    "\n",
    "        # Print Random Samples\n",
    "        random_test_features, random_test_labels = tuple(zip(*random.sample(list(zip(test_features, test_labels)), n_samples)))\n",
    "        random_test_predictions = sess.run(\n",
    "            tf.nn.top_k(tf.nn.softmax(loaded_logits), top_n_predictions),\n",
    "            feed_dict={loaded_x: random_test_features, loaded_y: random_test_labels, loaded_keep_prob: 1.0})\n",
    "        helper.display_image_predictions(random_test_features, random_test_labels, random_test_predictions)\n",
    "\n",
    "\n",
    "test_model()"
   ]
  },
  {
   "cell_type": "markdown",
   "metadata": {},
   "source": [
    "## Why 50-80% Accuracy?\n",
    "You might be wondering why you can't get an accuracy any higher. First things first, 50% isn't bad for a simple CNN.  Pure guessing would get you 10% accuracy. That's because there are many more techniques that can be applied to your model and we recemmond that once you are done with this project, you explore!\n",
    "\n",
    "## Submitting This Project\n",
    "When submitting this project, make sure to run all the cells before saving the notebook.  Save the notebook file as \"image_classification.ipynb\" and save it as a HTML file under \"File\" -> \"Download as\".  Include the \"helper.py\" and \"problem_unittests.py\" files in your submission."
   ]
  }
 ],
 "metadata": {
  "kernelspec": {
   "display_name": "Python 3",
   "language": "python",
   "name": "python3"
  },
  "language_info": {
   "codemirror_mode": {
    "name": "ipython",
    "version": 3
   },
   "file_extension": ".py",
   "mimetype": "text/x-python",
   "name": "python",
   "nbconvert_exporter": "python",
   "pygments_lexer": "ipython3",
   "version": "3.5.3"
  }
 },
 "nbformat": 4,
 "nbformat_minor": 1
}
